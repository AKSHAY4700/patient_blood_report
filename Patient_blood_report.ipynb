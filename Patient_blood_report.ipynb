{
 "cells": [
  {
   "cell_type": "code",
   "execution_count": 15,
   "id": "8f14d340",
   "metadata": {},
   "outputs": [
    {
     "name": "stdout",
     "output_type": "stream",
     "text": [
      "Sugar level65\n",
      "Blood pressure111\n",
      "Heartbeat rate70\n",
      "Weight66\n",
      "Fat percentage9\n",
      "New Patient’s blood report:\n",
      "{'Sugar level': 65, 'Blood pressure': 111, 'Heartbeat rate': 70, 'Weight': 66, 'Fat percentage': 9.0}\n",
      "Sugar level is 10 less than ideal value\n",
      "Blood pressure is 1 greater than ideal value\n",
      "Heartbeat rate is 1 less than ideal value\n",
      "Weight is 1 greater than ideal value\n",
      "Fat percentage is 1.0 less than ideal value\n"
     ]
    }
   ],
   "source": [
    "ideal_patient_data = {\"Sugar level\":75, \"Blood pressure\":110, \"Heartbeat rate\":71, \"Weight\":65, \n",
    "                      \"Fat percentage\":10}\n",
    "new_patient_data = {}\n",
    "\n",
    "\n",
    "#match\n",
    "\n",
    "new_patient_data[\"Sugar level\"] = int(input(\"Sugar level\"))\n",
    "new_patient_data[\"Blood pressure\"] = int(input(\"Blood pressure\"))\n",
    "new_patient_data[\"Heartbeat rate\"] = int(input(\"Heartbeat rate\"))\n",
    "new_patient_data[\"Weight\"] = int(input(\"Weight\"))\n",
    "new_patient_data[\"Fat percentage\"] =float(input(\"Fat percentage\"))\n",
    "print('New Patient’s blood report:')\n",
    "print(new_patient_data)\n",
    "\n",
    "new_patient_data[\"Sugar level\"] = new_patient_data[\"Sugar level\"]-ideal_patient_data[\"Sugar level\"] \n",
    "new_patient_data[\"Blood pressure\"] = new_patient_data[\"Blood pressure\"]- ideal_patient_data[\"Blood pressure\"]  \n",
    "new_patient_data[\"Heartbeat rate\"] = new_patient_data[\"Heartbeat rate\"]-ideal_patient_data[\"Heartbeat rate\"]\n",
    "new_patient_data[\"Weight\"] = new_patient_data[\"Weight\"] - ideal_patient_data[\"Weight\"]\n",
    "new_patient_data[\"Fat percentage\"] =new_patient_data[\"Fat percentage\"] -ideal_patient_data[\"Fat percentage\"]\n",
    "\n",
    "for key, value in new_patient_data.items():\n",
    "    if value == 0:\n",
    "        print(\"%s has ideal value\" % (key))\n",
    "    elif value < 0:\n",
    "        print(\"%s is %s less than ideal value\" % (key, abs(new_patient_data[key])))\n",
    "    elif value > 0:            \n",
    "        print(\"%s is %s greater than ideal value\" % (key, new_patient_data[key]))\n",
    "    else:\n",
    "        print(\"wrong input\")     \n",
    "\n",
    "        \n",
    "        \n",
    "        "
   ]
  },
  {
   "cell_type": "code",
   "execution_count": null,
   "id": "2ac310c6",
   "metadata": {},
   "outputs": [],
   "source": []
  }
 ],
 "metadata": {
  "kernelspec": {
   "display_name": "Python 3 (ipykernel)",
   "language": "python",
   "name": "python3"
  },
  "language_info": {
   "codemirror_mode": {
    "name": "ipython",
    "version": 3
   },
   "file_extension": ".py",
   "mimetype": "text/x-python",
   "name": "python",
   "nbconvert_exporter": "python",
   "pygments_lexer": "ipython3",
   "version": "3.10.9"
  }
 },
 "nbformat": 4,
 "nbformat_minor": 5
}
